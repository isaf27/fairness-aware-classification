{
 "cells": [
  {
   "cell_type": "code",
   "execution_count": 1,
   "id": "8a402572",
   "metadata": {},
   "outputs": [],
   "source": [
    "import numpy as np\n",
    "import matplotlib.pyplot as plt\n",
    "import warnings\n",
    "warnings.filterwarnings('ignore')\n",
    "\n",
    "from tqdm.notebook import tqdm, trange\n",
    "from algo import AdaFair, AdaBoost, SMOTEBoost, SMOTEBoostProtected, AdaFairCorrect, RUSBoost, CatBoostReweight\n",
    "from sklearn.linear_model import LogisticRegression\n",
    "from imblearn.over_sampling import SMOTE\n",
    "from sklearn.ensemble import RandomForestClassifier\n",
    "\n",
    "from utils import get_dataset\n",
    "from metrics import calculate_metrics\n",
    "\n",
    "from IPython.display import clear_output"
   ]
  },
  {
   "cell_type": "code",
   "execution_count": 2,
   "id": "d1f271c2",
   "metadata": {},
   "outputs": [],
   "source": [
    "import os\n",
    "\n",
    "def plot_metrics(ax, metrics, dataset):\n",
    "    metric_names = metrics[0][dataset, algorithms[0].__name__].keys()\n",
    "    x = np.arange(len(metric_names))\n",
    "    width = 0.11  # the width of the bars\n",
    "    ax.yaxis.grid()\n",
    "    for i, algo in enumerate(algorithms):\n",
    "        algo_name = algo.__name__\n",
    "        measurement = []\n",
    "        std = []\n",
    "        for m in metric_names:\n",
    "            values = [metrics[i][dataset, algo_name][m] for i in range(len(metrics))]\n",
    "            measurement.append(np.mean(values))\n",
    "            std.append(np.std(values))\n",
    "        if algo_name == \"LogisticRegression\" or algo_name == \"RandomForestClassifier\":\n",
    "            rects = ax.bar(x + width * i, measurement, width, label=\"SMOTE + \" + algo_name)\n",
    "            ax.errorbar(x + width * i, measurement, yerr=std, color='black', fmt='none')\n",
    "        elif algo_name == \"CatBoostReweight\":\n",
    "            rects = ax.bar(x + width * i, measurement, width, label=\"AttentiveGradientBoosting\")\n",
    "            ax.errorbar(x + width * i, measurement, yerr=std, color='black', fmt='none')\n",
    "        else:\n",
    "            rects = ax.bar(x + width * i, measurement, width, label=algo_name)\n",
    "            ax.errorbar(x + width * i, measurement, yerr=std, color='black', fmt='none')\n",
    "    ax.set_ylim([0, 1])\n",
    "    ax.legend(loc='lower right')\n",
    "    ax.set_xticks(x + width * (len(algorithms) - 1) / 2, metric_names, rotation=30,\n",
    "                  rotation_mode=\"anchor\", horizontalalignment='right', verticalalignment='top')"
   ]
  },
  {
   "cell_type": "code",
   "execution_count": null,
   "id": "f5c0d6c5",
   "metadata": {},
   "outputs": [
    {
     "name": "stdout",
     "output_type": "stream",
     "text": [
      "Iteration 0\n"
     ]
    },
    {
     "data": {
      "application/vnd.jupyter.widget-view+json": {
       "model_id": "67df505f38424f5ab15c6bca4df0f751",
       "version_major": 2,
       "version_minor": 0
      },
      "text/plain": [
       "  0%|          | 0/4 [00:00<?, ?it/s]"
      ]
     },
     "metadata": {},
     "output_type": "display_data"
    },
    {
     "name": "stdout",
     "output_type": "stream",
     "text": [
      "Dataset adult\n",
      "Train size: (36631, 108), Test size: (12211, 108)\n",
      "Positive ratio (train): 0.239, Positive ratio (test): 0.239\n",
      "Protected ratio (train): 0.332, Protected ratio (test): 0.332\n"
     ]
    },
    {
     "data": {
      "application/vnd.jupyter.widget-view+json": {
       "model_id": "37f5b2952b3c489d9d3daa159ab0bff6",
       "version_major": 2,
       "version_minor": 0
      },
      "text/plain": [
       "  0%|          | 0/7 [00:00<?, ?it/s]"
      ]
     },
     "metadata": {},
     "output_type": "display_data"
    }
   ],
   "source": [
    "%%time\n",
    "\n",
    "dataset_list = [\n",
    "    'adult',\n",
    "    'bank',\n",
    "    'compass',\n",
    "    'kdd',\n",
    "]\n",
    "algorithms = [\n",
    "    AdaBoost,\n",
    "    AdaFair,\n",
    "    SMOTEBoost,\n",
    "    RUSBoost,\n",
    "    LogisticRegression,\n",
    "    RandomForestClassifier,\n",
    "    CatBoostReweight\n",
    "]\n",
    "train_metrics, test_metrics = [], []\n",
    "ITER_COUNT = 10\n",
    "\n",
    "for seed in trange(ITER_COUNT):\n",
    "    clear_output()\n",
    "    \n",
    "    train_metrics.append({})\n",
    "    test_metrics.append({})\n",
    "    \n",
    "    print(f'Iteration {seed}')\n",
    "    \n",
    "    for dataset in tqdm(dataset_list):\n",
    "        X_train, y_train, is_protected_train, X_test, y_test, is_protected_test = get_dataset(dataset, test_size=0.25, random_state=seed)\n",
    "\n",
    "        print(f'Dataset {dataset}')\n",
    "        print(f'Train size: {X_train.shape}, Test size: {X_test.shape}')\n",
    "        print(f'Positive ratio (train): {y_train.mean():.3f}, Positive ratio (test): {y_test.mean():.3f}')\n",
    "        print(f'Protected ratio (train): {is_protected_train.mean():.3f}, Protected ratio (test): {is_protected_test.mean():.3f}')\n",
    "\n",
    "        for model_class in tqdm(algorithms, position=1, leave=False):\n",
    "            if model_class.__name__ == 'AdaFair' and (dataset == 'compass' or dataset == 'kdd'):\n",
    "                model = model_class(n_estimators=50, u_weight=1)\n",
    "                model.fit(X_train, y_train, is_protected_train)\n",
    "            elif model_class.__name__ == \"LogisticRegression\":\n",
    "                sm = SMOTE(random_state=42)\n",
    "                X_res, y_res = sm.fit_resample(X_train, y_train)\n",
    "\n",
    "                model = model_class(class_weight=\"balanced\")\n",
    "                model.fit(X_res, y_res)\n",
    "            elif model_class.__name__ == \"RandomForestClassifier\":\n",
    "                sm = SMOTE(random_state=42)\n",
    "                X_res, y_res = sm.fit_resample(X_train, y_train)\n",
    "\n",
    "                model = model_class(n_estimators=20, class_weight=\"balanced\")\n",
    "                model.fit(X_res, y_res)\n",
    "            elif model_class.__name__ == \"CatBoostReweight\":\n",
    "                n_iter = {\n",
    "                    'adult': 100,\n",
    "                    'bank': 200,\n",
    "                    'compass': 1000,\n",
    "                    'kdd': 30\n",
    "                }\n",
    "                model = model_class(n_iter=n_iter[dataset], cb_trees=1, C=0.5, eps=0.01)\n",
    "                y_train_pred = model.fit(X_train, y_train, is_protected_train)\n",
    "            else:\n",
    "                model = model_class()\n",
    "                model.fit(X_train, y_train, is_protected_train)\n",
    "\n",
    "            if model_class.__name__ != \"CatBoostReweight\":\n",
    "                y_train_pred = model.predict(X_train)\n",
    "            y_test_pred = model.predict(X_test)\n",
    "\n",
    "            train_metrics[-1][dataset, model_class.__name__] = calculate_metrics(y_train, y_train_pred, is_protected_train)\n",
    "            test_metrics[-1][dataset, model_class.__name__] = calculate_metrics(y_test, y_test_pred, is_protected_test)\n",
    "\n",
    "        print()\n",
    "    \n",
    "    for metrics, name in [(test_metrics, 'test'), (train_metrics, 'train')]:\n",
    "        _, axes = plt.subplots(1, len(dataset_list), figsize=(24, 7))\n",
    "        if len(dataset_list) == 1:\n",
    "            axes = [axes]\n",
    "        print(name, 'metrics:')\n",
    "        for dataset, ax in zip(dataset_list, axes):\n",
    "            plot_metrics(ax, metrics, dataset)\n",
    "            ax.set_title(dataset)\n",
    "        plt.tight_layout()\n",
    "        if not os.path.exists('plots'):\n",
    "            os.mkdir('plots')\n",
    "        plt.savefig(f'plots/{name}.png', dpi=150)\n",
    "        plt.savefig(f'plots/{name}.eps')\n",
    "        plt.show()"
   ]
  }
 ],
 "metadata": {
  "kernelspec": {
   "display_name": "Python 3 (ipykernel)",
   "language": "python",
   "name": "python3"
  },
  "language_info": {
   "codemirror_mode": {
    "name": "ipython",
    "version": 3
   },
   "file_extension": ".py",
   "mimetype": "text/x-python",
   "name": "python",
   "nbconvert_exporter": "python",
   "pygments_lexer": "ipython3",
   "version": "3.9.12"
  }
 },
 "nbformat": 4,
 "nbformat_minor": 5
}
