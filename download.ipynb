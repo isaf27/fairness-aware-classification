{
 "cells": [
  {
   "cell_type": "markdown",
   "id": "41b0a342",
   "metadata": {},
   "source": [
    "# Adult"
   ]
  },
  {
   "cell_type": "code",
   "execution_count": 1,
   "id": "56950728",
   "metadata": {},
   "outputs": [
    {
     "name": "stdout",
     "output_type": "stream",
     "text": [
      "--2023-03-19 19:01:44--  https://archive.ics.uci.edu/ml/machine-learning-databases/adult/adult.data\n",
      "Распознаётся archive.ics.uci.edu (archive.ics.uci.edu)… 128.195.10.252\n",
      "Подключение к archive.ics.uci.edu (archive.ics.uci.edu)|128.195.10.252|:443... соединение установлено.\n",
      "HTTP-запрос отправлен. Ожидание ответа… 200 OK\n",
      "Длина: 3974305 (3,8M) [application/x-httpd-php]\n",
      "Сохранение в: «adult/adult.data»\n",
      "\n",
      "adult.data          100%[===================>]   3,79M   913KB/s    за 4,2s    \n",
      "\n",
      "2023-03-19 19:01:50 (913 KB/s) - «adult/adult.data» сохранён [3974305/3974305]\n",
      "\n",
      "--2023-03-19 19:01:50--  https://archive.ics.uci.edu/ml/machine-learning-databases/adult/adult.test\n",
      "Распознаётся archive.ics.uci.edu (archive.ics.uci.edu)… 128.195.10.252\n",
      "Подключение к archive.ics.uci.edu (archive.ics.uci.edu)|128.195.10.252|:443... соединение установлено.\n",
      "HTTP-запрос отправлен. Ожидание ответа… 200 OK\n",
      "Длина: 2003153 (1,9M) [application/x-httpd-php]\n",
      "Сохранение в: «adult/adult.test»\n",
      "\n",
      "adult.test          100%[===================>]   1,91M   388KB/s    за 5,4s    \n",
      "\n",
      "2023-03-19 19:01:56 (360 KB/s) - «adult/adult.test» сохранён [2003153/2003153]\n",
      "\n",
      "--2023-03-19 19:01:56--  https://archive.ics.uci.edu/ml/machine-learning-databases/adult/adult.names\n",
      "Распознаётся archive.ics.uci.edu (archive.ics.uci.edu)… 128.195.10.252\n",
      "Подключение к archive.ics.uci.edu (archive.ics.uci.edu)|128.195.10.252|:443... соединение установлено.\n",
      "HTTP-запрос отправлен. Ожидание ответа… 200 OK\n",
      "Длина: 5229 (5,1K) [application/x-httpd-php]\n",
      "Сохранение в: «adult/adult.names»\n",
      "\n",
      "adult.names         100%[===================>]   5,11K  --.-KB/s    за 0,004s  \n",
      "\n",
      "2023-03-19 19:01:57 (1,20 MB/s) - «adult/adult.names» сохранён [5229/5229]\n",
      "\n"
     ]
    }
   ],
   "source": [
    "! mkdir adult\n",
    "! wget -P adult https://archive.ics.uci.edu/ml/machine-learning-databases/adult/adult.data\n",
    "! wget -P adult https://archive.ics.uci.edu/ml/machine-learning-databases/adult/adult.test\n",
    "! tail -n +2 adult/adult.test > tmp && mv tmp adult/adult.test && rm -rf tmp\n",
    "! wget -P adult https://archive.ics.uci.edu/ml/machine-learning-databases/adult/adult.names"
   ]
  },
  {
   "cell_type": "code",
   "execution_count": 2,
   "id": "2b5b30f6",
   "metadata": {},
   "outputs": [],
   "source": [
    "import pandas as pd\n",
    "from pathlib import Path\n",
    "\n",
    "\n",
    "def read_adult(data_dir: str):\n",
    "    colnames = [\n",
    "        'age',\n",
    "        'workclass',\n",
    "        'fnlwgt',\n",
    "        'education',\n",
    "        'education-num',\n",
    "        'marital-status',\n",
    "        'occupation',\n",
    "        'relationship',\n",
    "        'race',\n",
    "        'sex',\n",
    "        'capital-gain',\n",
    "        'capital-loss',\n",
    "        'hours-per-week',\n",
    "        'native-country',\n",
    "        'income'\n",
    "    ]\n",
    "    train = pd.read_csv(Path(data_dir) / 'adult.data', header=None, names=colnames, skipinitialspace=True)\n",
    "    test = pd.read_csv(Path(data_dir) / 'adult.test', header=None, names=colnames, skipinitialspace=True)\n",
    "    return train, test"
   ]
  },
  {
   "cell_type": "code",
   "execution_count": 3,
   "id": "ad002e10",
   "metadata": {},
   "outputs": [],
   "source": [
    "train, test = read_adult('adult')"
   ]
  },
  {
   "cell_type": "code",
   "execution_count": 4,
   "id": "ca855f00",
   "metadata": {},
   "outputs": [
    {
     "name": "stdout",
     "output_type": "stream",
     "text": [
      "Positive ratio is 0.241\n"
     ]
    }
   ],
   "source": [
    "positive_ratio = (train['income'] == '>50K').mean()\n",
    "print(f'Positive ratio is {positive_ratio:.3f}')"
   ]
  },
  {
   "cell_type": "markdown",
   "id": "94b746c2",
   "metadata": {},
   "source": [
    "# Bank"
   ]
  },
  {
   "cell_type": "code",
   "execution_count": 5,
   "id": "09ae9c61",
   "metadata": {},
   "outputs": [
    {
     "name": "stdout",
     "output_type": "stream",
     "text": [
      "--2023-03-19 19:01:58--  https://archive.ics.uci.edu/ml/machine-learning-databases/00222/bank.zip\n",
      "Распознаётся archive.ics.uci.edu (archive.ics.uci.edu)… 128.195.10.252\n",
      "Подключение к archive.ics.uci.edu (archive.ics.uci.edu)|128.195.10.252|:443... соединение установлено.\n",
      "HTTP-запрос отправлен. Ожидание ответа… 200 OK\n",
      "Длина: 579043 (565K) [application/x-httpd-php]\n",
      "Сохранение в: «bank/bank.zip»\n",
      "\n",
      "bank.zip            100%[===================>] 565,47K   507KB/s    за 1,1s    \n",
      "\n",
      "2023-03-19 19:02:00 (507 KB/s) - «bank/bank.zip» сохранён [579043/579043]\n",
      "\n",
      "Archive:  bank/bank.zip\n",
      "  inflating: bank/bank-full.csv      \n",
      "  inflating: bank/bank-names.txt     \n",
      "  inflating: bank/bank.csv           \n"
     ]
    }
   ],
   "source": [
    "! mkdir bank\n",
    "! wget -P bank https://archive.ics.uci.edu/ml/machine-learning-databases/00222/bank.zip\n",
    "! unzip bank/bank.zip -d bank"
   ]
  },
  {
   "cell_type": "code",
   "execution_count": 6,
   "id": "b2b3e144",
   "metadata": {},
   "outputs": [],
   "source": [
    "import pandas as pd\n",
    "from pathlib import Path\n",
    "\n",
    "\n",
    "def read_bank(data_dir: str):\n",
    "    return pd.read_csv(Path(data_dir) / 'bank-full.csv', delimiter=';')"
   ]
  },
  {
   "cell_type": "code",
   "execution_count": 7,
   "id": "b2c2122c",
   "metadata": {},
   "outputs": [],
   "source": [
    "data = read_bank('bank')"
   ]
  },
  {
   "cell_type": "code",
   "execution_count": 8,
   "id": "8e81587a",
   "metadata": {},
   "outputs": [
    {
     "name": "stdout",
     "output_type": "stream",
     "text": [
      "Positive ratio is 0.117\n"
     ]
    }
   ],
   "source": [
    "positive_ratio = (data['y'] == 'yes').mean()\n",
    "print(f'Positive ratio is {positive_ratio:.3f}')"
   ]
  },
  {
   "cell_type": "markdown",
   "id": "669b4f0a",
   "metadata": {},
   "source": [
    "# Compass"
   ]
  },
  {
   "cell_type": "code",
   "execution_count": 9,
   "id": "4deb097a",
   "metadata": {},
   "outputs": [
    {
     "name": "stdout",
     "output_type": "stream",
     "text": [
      "Downloading compass.zip to compass\n",
      "100%|██████████████████████████████████████| 2.72M/2.72M [00:01<00:00, 1.92MB/s]\n",
      "100%|██████████████████████████████████████| 2.72M/2.72M [00:01<00:00, 1.82MB/s]\n",
      "Archive:  compass/compass.zip\n",
      "  inflating: compass/compas-scores-raw.csv  \n",
      "  inflating: compass/cox-violent-parsed.csv  \n",
      "  inflating: compass/cox-violent-parsed_filt.csv  \n",
      "  inflating: compass/propublicaCompassRecividism_data_fairml.csv/._propublica_data_for_fairml.csv  \n",
      "  inflating: compass/propublicaCompassRecividism_data_fairml.csv/propublica_data_for_fairml.csv  \n"
     ]
    }
   ],
   "source": [
    "! mkdir compass\n",
    "! kaggle datasets download -d danofer/compass -p compass\n",
    "! unzip compass/compass.zip -d compass"
   ]
  },
  {
   "cell_type": "code",
   "execution_count": 10,
   "id": "9ec636d9",
   "metadata": {},
   "outputs": [],
   "source": [
    "import pandas as pd\n",
    "from pathlib import Path\n",
    "\n",
    "\n",
    "def read_compass(data_dir: str):\n",
    "    return pd.read_csv(Path(data_dir) / 'propublicaCompassRecividism_data_fairml.csv' / 'propublica_data_for_fairml.csv')"
   ]
  },
  {
   "cell_type": "code",
   "execution_count": 11,
   "id": "3639a946",
   "metadata": {},
   "outputs": [],
   "source": [
    "data = read_compass('compass')"
   ]
  },
  {
   "cell_type": "code",
   "execution_count": 12,
   "id": "014ecc64",
   "metadata": {},
   "outputs": [
    {
     "name": "stdout",
     "output_type": "stream",
     "text": [
      "Positive ratio is 0.455\n"
     ]
    }
   ],
   "source": [
    "positive_ratio = (data['Two_yr_Recidivism'] == 1).mean()\n",
    "print(f'Positive ratio is {positive_ratio:.3f}')"
   ]
  },
  {
   "cell_type": "markdown",
   "id": "3efb5369",
   "metadata": {},
   "source": [
    "# KDD census income"
   ]
  },
  {
   "cell_type": "code",
   "execution_count": 13,
   "id": "8fd20a21",
   "metadata": {},
   "outputs": [
    {
     "name": "stdout",
     "output_type": "stream",
     "text": [
      "--2023-03-19 19:02:04--  http://archive.ics.uci.edu/ml/machine-learning-databases/census-income-mld/census.tar.gz\n",
      "Распознаётся archive.ics.uci.edu (archive.ics.uci.edu)… 128.195.10.252\n",
      "Подключение к archive.ics.uci.edu (archive.ics.uci.edu)|128.195.10.252|:80... соединение установлено.\n",
      "HTTP-запрос отправлен. Ожидание ответа… 200 OK\n",
      "Длина: 9789310 (9,3M) [application/x-httpd-php]\n",
      "Сохранение в: «census-income/census.tar.gz»\n",
      "\n",
      "census.tar.gz       100%[===================>]   9,33M  1008KB/s    за 11s     \n",
      "\n",
      "2023-03-19 19:02:15 (850 KB/s) - «census-income/census.tar.gz» сохранён [9789310/9789310]\n",
      "\n",
      "x census-income.data\n",
      "x census-income.names\n",
      "x census-income.test\n"
     ]
    }
   ],
   "source": [
    "! mkdir census-income\n",
    "! wget -P census-income http://archive.ics.uci.edu/ml/machine-learning-databases/census-income-mld/census.tar.gz\n",
    "! tar -xvf census-income/census.tar.gz -C census-income"
   ]
  },
  {
   "cell_type": "code",
   "execution_count": 14,
   "id": "0a9a8543",
   "metadata": {},
   "outputs": [],
   "source": [
    "def read_census(data_dir: str):\n",
    "    colnames = [\n",
    "        \"age\",\n",
    "        \"class of worker\",\n",
    "        \"industry code\",\n",
    "        \"occupation code\",\n",
    "        \"adjusted gross income\",\n",
    "        \"education\",\n",
    "        \"wage per hour\",\n",
    "        \"enrolled in edu inst last wk\",\n",
    "        \"marital status\",\n",
    "        \"major industry code\",\n",
    "        \"major occupation code\",\n",
    "        \"race\",\n",
    "        \"hispanic Origin\",\n",
    "        \"sex\",\n",
    "        \"member of a labor union\",\n",
    "        \"reason for unemployment\",\n",
    "        \"full or part time employment stat\",\n",
    "        \"capital gains\",\n",
    "        \"capital losses\",\n",
    "        \"divdends from stocks\",\n",
    "        \"federal income tax liability\",\n",
    "        \"tax filer status\",\n",
    "        \"region of previous residence\",\n",
    "        \"state of previous residence\",\n",
    "        \"detailed household and family stat\",\n",
    "        \"detailed household summary in household\",\n",
    "        \"instance weight\",\n",
    "        \"migration code-change in msa\",\n",
    "        \"migration code-change in reg\",\n",
    "        \"migration code-move within reg\",\n",
    "        \"live in this house 1 year ago\",\n",
    "        \"migration prev res in sunbelt\",\n",
    "        \"num persons worked for employer\",\n",
    "        \"family members under 18\",\n",
    "        \"total person earnings\",\n",
    "        \"country of birth father\",\n",
    "        \"country of birth mother\",\n",
    "        \"country of birth self\",\n",
    "        \"citizenship\",\n",
    "        \"total person income\",\n",
    "        \"own business or self employed\",\n",
    "        \"taxable income amount\"\n",
    "    ]\n",
    "    train = pd.read_csv(Path(data_dir) / 'census-income.data', header=None, names=colnames, skipinitialspace=True)\n",
    "    test = pd.read_csv(Path(data_dir) / 'census-income.test', header=None, names=colnames, skipinitialspace=True)\n",
    "    return train, test"
   ]
  },
  {
   "cell_type": "code",
   "execution_count": 15,
   "id": "a7bdea04",
   "metadata": {},
   "outputs": [],
   "source": [
    "train, test = read_census('census-income')"
   ]
  },
  {
   "cell_type": "code",
   "execution_count": 16,
   "id": "a43d3781",
   "metadata": {},
   "outputs": [
    {
     "name": "stdout",
     "output_type": "stream",
     "text": [
      "Positive ratio is 0.062\n"
     ]
    }
   ],
   "source": [
    "positive_ratio = (train['taxable income amount'] != '- 50000.').mean()\n",
    "print(f'Positive ratio is {positive_ratio:.3f}')"
   ]
  }
 ],
 "metadata": {
  "kernelspec": {
   "display_name": "Python 3 (ipykernel)",
   "language": "python",
   "name": "python3"
  },
  "language_info": {
   "codemirror_mode": {
    "name": "ipython",
    "version": 3
   },
   "file_extension": ".py",
   "mimetype": "text/x-python",
   "name": "python",
   "nbconvert_exporter": "python",
   "pygments_lexer": "ipython3",
   "version": "3.9.12"
  }
 },
 "nbformat": 4,
 "nbformat_minor": 5
}
